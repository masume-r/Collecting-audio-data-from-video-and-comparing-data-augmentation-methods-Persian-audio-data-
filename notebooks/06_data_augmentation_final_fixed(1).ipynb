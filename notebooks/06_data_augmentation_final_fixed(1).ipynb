{
 "cells": [
  {
   "cell_type": "markdown",
   "id": "5e2e47ee",
   "metadata": {},
   "source": [
    "# 📁 06_data_augmentation_final_fixed.ipynb\n",
    "\n",
    "# 🏢 Step 6: Data Augmentation (Noise, Pitch Shift, Stretch, Mixed)\n",
    "This notebook applies 4 types of augmentations:\n",
    "- Add random noise\n",
    "- Change pitch\n",
    "- Time stretch\n",
    "- Mixed random augmentations"
   ]
  },
  {
   "cell_type": "code",
   "execution_count": null,
   "id": "0b1bdd21",
   "metadata": {},
   "outputs": [],
   "source": [
    "# 📂 Mount Google Drive\n",
    "from google.colab import drive\n",
    "drive.mount('/content/drive')"
   ]
  },
  {
   "cell_type": "code",
   "execution_count": null,
   "id": "6528324a",
   "metadata": {},
   "outputs": [],
   "source": [
    "# 📦 Libraries\n",
    "import os\n",
    "import librosa\n",
    "import soundfile as sf\n",
    "import numpy as np\n",
    "import random"
   ]
  },
  {
   "cell_type": "code",
   "execution_count": null,
   "id": "e4029643",
   "metadata": {},
   "outputs": [],
   "source": [
    "# ⚙️ Settings\n",
    "sr = 16000"
   ]
  },
  {
   "cell_type": "code",
   "execution_count": null,
   "id": "a3934168",
   "metadata": {},
   "outputs": [],
   "source": [
    "# 📂 Input and Output Paths\n",
    "input_folder = \"/content/drive/MyDrive/final_data\"\n",
    "output_folders = {\n",
    "    \"noised\": \"/content/drive/MyDrive/data_noised\",\n",
    "    \"pitch\": \"/content/drive/MyDrive/data_pitch\",\n",
    "    \"stretch\": \"/content/drive/MyDrive/data_stretch\",\n",
    "    \"mixed\": \"/content/drive/MyDrive/data_mixed\"\n",
    "}\n",
    "\n",
    "for folder in output_folders.values():\n",
    "    os.makedirs(folder, exist_ok=True)"
   ]
  },
  {
   "cell_type": "code",
   "execution_count": null,
   "id": "9005a5cd",
   "metadata": {},
   "outputs": [],
   "source": [
    "# 🔥 Augmentation Functions\n",
    "def add_noise(y):\n",
    "    noise = np.random.normal(0, 0.005, y.shape)\n",
    "    return y + noise\n",
    "\n",
    "def pitch_shift_audio(y, sr):\n",
    "    steps = random.choice([-2, -1, 1, 2])\n",
    "    return librosa.effects.pitch_shift(y, sr=sr, n_steps=steps)\n",
    "\n",
    "def time_stretch_audio(y):\n",
    "    rate = random.uniform(0.9, 1.1)\n",
    "    return librosa.effects.time_stretch(y, rate=rate)\n",
    "\n",
    "def apply_random_augmentation(y, sr):\n",
    "    choice = random.choice(['noise', 'pitch', 'stretch'])\n",
    "    if choice == 'noise':\n",
    "        return add_noise(y)\n",
    "    elif choice == 'pitch':\n",
    "        return pitch_shift_audio(y, sr)\n",
    "    else:\n",
    "        return time_stretch_audio(y)"
   ]
  },
  {
   "cell_type": "code",
   "execution_count": null,
   "id": "a841cefc",
   "metadata": {},
   "outputs": [],
   "source": [
    "# 🔁 Process All Files\n",
    "for filename in os.listdir(input_folder):\n",
    "    if filename.endswith(\".wav\"):\n",
    "        filepath = os.path.join(input_folder, filename)\n",
    "        try:\n",
    "            y, sr_loaded = librosa.load(filepath, sr=sr)\n",
    "\n",
    "            # Noise\n",
    "            y_noised = add_noise(y)\n",
    "            sf.write(os.path.join(output_folders['noised'], filename.replace(\".wav\", \"_noised.wav\")), y_noised, sr)\n",
    "\n",
    "            # Pitch Shift\n",
    "            y_pitch = pitch_shift_audio(y, sr)\n",
    "            sf.write(os.path.join(output_folders['pitch'], filename.replace(\".wav\", \"_pitch.wav\")), y_pitch, sr)\n",
    "\n",
    "            # Time Stretch\n",
    "            y_stretch = time_stretch_audio(y)\n",
    "            sf.write(os.path.join(output_folders['stretch'], filename.replace(\".wav\", \"_stretch.wav\")), y_stretch, sr)\n",
    "\n",
    "            # Mixed Random Augmentation\n",
    "            y_mixed = apply_random_augmentation(y, sr)\n",
    "            sf.write(os.path.join(output_folders['mixed'], filename.replace(\".wav\", \"_mixed.wav\")), y_mixed, sr)\n",
    "\n",
    "        except Exception as e:\n",
    "            print(f\"⚠️ Error processing {filename}: {e}\")\n",
    "\n",
    "print(\"✅ All data augmentations completed successfully!\")"
   ]
  }
 ],
 "metadata": {},
 "nbformat": 4,
 "nbformat_minor": 5
}
