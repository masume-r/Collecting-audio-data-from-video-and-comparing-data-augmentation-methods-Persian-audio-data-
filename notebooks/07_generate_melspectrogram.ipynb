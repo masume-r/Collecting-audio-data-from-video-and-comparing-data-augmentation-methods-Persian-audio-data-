{
  "cells": [
    {
      "cell_type": "markdown",
      "id": "4fa9a212",
      "metadata": {
        "id": "4fa9a212"
      },
      "source": [
        "# 📁 07_generate_melspectrogram.ipynb\n",
        "\n",
        "## 🎛️ Step 7: Generate Mel Spectrograms for All Augmentation Variants\n",
        "\n",
        "This notebook generates Mel Spectrograms from all versions of audio data:\n",
        "- Original\n",
        "- Noised\n",
        "- Pitch-shifted\n",
        "- Stretched\n",
        "- Mixed"
      ]
    },
    {
      "cell_type": "code",
      "execution_count": null,
      "id": "fc532aeb",
      "metadata": {
        "colab": {
          "base_uri": "https://localhost:8080/"
        },
        "id": "fc532aeb",
        "outputId": "3a87ee45-4ba7-47fc-c06e-45a9a4a5f610"
      },
      "outputs": [
        {
          "output_type": "stream",
          "name": "stdout",
          "text": [
            "Mounted at /content/drive\n"
          ]
        }
      ],
      "source": [
        "# 📂 Mount Google Drive\n",
        "from google.colab import drive\n",
        "drive.mount('/content/drive')"
      ]
    },
    {
      "cell_type": "code",
      "execution_count": null,
      "id": "9c2f4a1f",
      "metadata": {
        "id": "9c2f4a1f"
      },
      "outputs": [],
      "source": [
        "# 📦 Libraries\n",
        "import os\n",
        "import librosa\n",
        "import librosa.display\n",
        "import matplotlib.pyplot as plt\n",
        "import numpy as np\n",
        "import shutil\n",
        "\n"
      ]
    },
    {
      "cell_type": "code",
      "execution_count": null,
      "id": "aad16cb0",
      "metadata": {
        "id": "aad16cb0"
      },
      "outputs": [],
      "source": [
        "# 🎛️ Settings\n",
        "sr = 16000"
      ]
    },
    {
      "cell_type": "code",
      "execution_count": null,
      "id": "862d0d27",
      "metadata": {
        "id": "862d0d27"
      },
      "outputs": [],
      "source": [
        "variants = {\n",
        "    \"original\": (\"/content/drive/MyDrive/final_data\", \"/content/drive/MyDrive/melspec_original\"),\n",
        "    \"noised\": (\"/content/drive/MyDrive/data_noised\", \"/content/drive/MyDrive/melspec_noised\"),\n",
        "    \"pitch\": (\"/content/drive/MyDrive/data_pitch\", \"/content/drive/MyDrive/melspec_pitch\"),\n",
        "    \"stretch\": (\"/content/drive/MyDrive/data_stretch\", \"/content/drive/MyDrive/melspec_stretch\"),\n",
        "    \"mixed\": (\"/content/drive/MyDrive/data_mixed\", \"/content/drive/MyDrive/melspec_mixed\")\n",
        "}\n"
      ]
    },
    {
      "cell_type": "code",
      "execution_count": null,
      "id": "50b51e8e",
      "metadata": {
        "id": "50b51e8e"
      },
      "outputs": [],
      "source": [
        "# 🔄 Process each variant\n",
        "for version, (input_folder, output_folder) in variants.items():\n",
        "    os.makedirs(output_folder, exist_ok=True)\n",
        "    print(f\"🔁 Processing: {version}\")\n",
        "\n",
        "    for filename in os.listdir(input_folder):\n",
        "        if filename.endswith('.wav'):\n",
        "            filepath = os.path.join(input_folder, filename)\n",
        "            try:\n",
        "                y, _ = librosa.load(filepath, sr=sr)\n",
        "\n",
        "                mel_spec = librosa.feature.melspectrogram(y=y, sr=sr, n_mels=128)\n",
        "                mel_db = librosa.power_to_db(mel_spec, ref=np.max)\n",
        "\n",
        "                # Save image\n",
        "                plt.figure(figsize=(3, 3))\n",
        "                librosa.display.specshow(mel_db, sr=sr, x_axis='time', y_axis='mel')\n",
        "                plt.axis('off')\n",
        "                save_path = os.path.join(output_folder, filename.replace('.wav', '.png'))\n",
        "                plt.savefig(save_path, bbox_inches='tight', pad_inches=0)\n",
        "                plt.close()\n",
        "\n",
        "            except Exception as e:\n",
        "                print(f\"⚠️ Error in {filename} [{version}]: {e}\")\n",
        "\n",
        "print(\"✅ All Mel Spectrograms generated successfully!\")"
      ]
    },
    {
      "cell_type": "code",
      "source": [
        "# 📂 Original Mel-spectrogram folder\n",
        "original_melspec_folder = \"/content/drive/MyDrive/melspec_original\"\n",
        "\n",
        "# 📂 Target folders\n",
        "target_folders = [\n",
        "    \"/content/drive/MyDrive/melspec_noised\",\n",
        "    \"/content/drive/MyDrive/melspec_pitch\",\n",
        "    \"/content/drive/MyDrive/melspec_stretch\",\n",
        "    \"/content/drive/MyDrive/melspec_mixed\"\n",
        "]\n",
        "\n",
        "# 🚀 Copy all files\n",
        "for target in target_folders:\n",
        "    for file_name in os.listdir(original_melspec_folder):\n",
        "        src_path = os.path.join(original_melspec_folder, file_name)\n",
        "        dst_path = os.path.join(target, file_name)\n",
        "        shutil.copy(src_path, dst_path)\n",
        "\n",
        "print(\"✅ All original mel-spectrograms copied to all augmentation folders.\")"
      ],
      "metadata": {
        "colab": {
          "base_uri": "https://localhost:8080/"
        },
        "id": "ew7ec5zuWNx3",
        "outputId": "666f1ae5-9b5f-464e-de39-116ad9e2d30c"
      },
      "id": "ew7ec5zuWNx3",
      "execution_count": null,
      "outputs": [
        {
          "output_type": "stream",
          "name": "stdout",
          "text": [
            "✅ All original mel-spectrograms copied to all augmentation folders.\n"
          ]
        }
      ]
    }
  ],
  "metadata": {
    "colab": {
      "provenance": []
    },
    "language_info": {
      "name": "python"
    },
    "kernelspec": {
      "name": "python3",
      "display_name": "Python 3"
    }
  },
  "nbformat": 4,
  "nbformat_minor": 5
}