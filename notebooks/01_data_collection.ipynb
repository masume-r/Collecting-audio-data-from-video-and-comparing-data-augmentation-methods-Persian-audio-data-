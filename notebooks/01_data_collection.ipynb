{
 "cells": [
  {
   "cell_type": "markdown",
   "id": "2295f9ad",
   "metadata": {},
   "source": [
    "# 🎬 Step 1: Audio Extraction from Persian Movie Clips\n",
    "\n",
    "In this notebook, we extract raw audio from a Persian movie or clip using either `moviepy` or `ffmpeg`.\n",
    "\n",
    "This extracted audio will later be segmented and labeled for emotion classification.\n",
    "\n",
    "> ✅ Use `moviepy` for shorter clips (under 1 minute), and `ffmpeg` for longer or more complex videos.\n"
   ]
  },
  {
   "cell_type": "code",
   "execution_count": null,
   "id": "be8f9d53",
   "metadata": {},
   "outputs": [],
   "source": [
    "# 🔧 Install moviepy if not already installed\n",
    "!pip install moviepy\n"
   ]
  },
  {
   "cell_type": "code",
   "execution_count": null,
   "id": "b9a1b3f1",
   "metadata": {},
   "outputs": [],
   "source": [
    "from moviepy.editor import VideoFileClip\n",
    "\n",
    "# Load the video\n",
    "video = VideoFileClip(\"sample_clip.mp4\")  # Replace with your actual file\n",
    "audio = video.audio\n",
    "\n",
    "# Export the audio\n",
    "audio.write_audiofile(\"extracted_audio.wav\")\n"
   ]
  },
  {
   "cell_type": "code",
   "execution_count": null,
   "id": "cde966f9",
   "metadata": {},
   "outputs": [],
   "source": [
    "# If you prefer using ffmpeg (recommended for better control):\n",
    "!ffmpeg -i sample_clip.mp4 -vn -acodec pcm_s16le -ar 16000 -ac 1 extracted_audio.wav\n"
   ]
  }
 ],
 "metadata": {},
 "nbformat": 4,
 "nbformat_minor": 5
}
