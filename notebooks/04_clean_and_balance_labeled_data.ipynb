{
 "cells": [
  {
   "cell_type": "markdown",
   "id": "6effbc80",
   "metadata": {},
   "source": [
    "# 📁 04_clean_and_balance_labeled_data.ipynb\n",
    "\n",
    "# 🎯 Step 4: Clean and Balance Labeled Data\n",
    "\n",
    "\"\"\"\n",
    "This notebook processes the manually labeled CSV file.\n",
    "It removes rows that were left empty (i.e., unusable audio segments)\n",
    "and balances the dataset across all classes.\n",
    "Labels are expected to be numerical:\n",
    "0: Neutral, 1: Happy, 2: Sad, 3: Angry\n",
    "\"\"\""
   ]
  },
  {
   "cell_type": "code",
   "execution_count": null,
   "id": "67a2509a",
   "metadata": {},
   "outputs": [],
   "source": [
    "# 📂 Mount Google Drive\n",
    "from google.colab import drive\n",
    "drive.mount('/content/drive')"
   ]
  },
  {
   "cell_type": "code",
   "execution_count": null,
   "id": "c7f169f4",
   "metadata": {},
   "outputs": [],
   "source": [
    "# 📦 Libraries\n",
    "import pandas as pd"
   ]
  },
  {
   "cell_type": "code",
   "execution_count": null,
   "id": "de3ca5dd",
   "metadata": {},
   "outputs": [],
   "source": [
    "# 📄 Path to labeled CSV\n",
    "labeled_csv = \"/content/drive/MyDrive/initial_labels.csv\" "
   ]
  },
  {
   "cell_type": "code",
   "execution_count": null,
   "id": "917f1766",
   "metadata": {},
   "outputs": [],
   "source": [
    "# 📖 Load labeled data\n",
    "labeled_df = pd.read_csv(labeled_csv)\n",
    "\n",
    "print(f\"📦 Total rows before cleaning: {len(labeled_df)}\")"
   ]
  },
  {
   "cell_type": "code",
   "execution_count": null,
   "id": "9ce8beda",
   "metadata": {},
   "outputs": [],
   "source": [
    "# 🧹 Remove rows where label is empty\n",
    "cleaned_df = labeled_df[labeled_df[\"label\"].notnull()]\n",
    "cleaned_df = cleaned_df.reset_index(drop=True)\n",
    "\n",
    "print(f\"✅ Total rows after cleaning: {len(cleaned_df)}\")"
   ]
  },
  {
   "cell_type": "code",
   "execution_count": null,
   "id": "4ab7652b",
   "metadata": {},
   "outputs": [],
   "source": [
    "# ⚖️ Balance the dataset\n",
    "min_count = cleaned_df['label'].value_counts().min()\n",
    "print(f\"✅ Minimum samples per class: {min_count}\")\n",
    "\n",
    "balanced_df = cleaned_df.groupby('label').sample(n=min_count, random_state=42)\n",
    "balanced_df = balanced_df.reset_index(drop=True)\n",
    "\n",
    "# 💾 Save balanced labeled data\n",
    "balanced_df.to_csv(\"/content/drive/MyDrive/balanced_data.csv\", index=False)\n",
    "\n",
    "print(f\"✅ Balanced dataset created with {len(balanced_df)} samples.\")"
   ]
  }
 ],
 "metadata": {},
 "nbformat": 4,
 "nbformat_minor": 5
}
