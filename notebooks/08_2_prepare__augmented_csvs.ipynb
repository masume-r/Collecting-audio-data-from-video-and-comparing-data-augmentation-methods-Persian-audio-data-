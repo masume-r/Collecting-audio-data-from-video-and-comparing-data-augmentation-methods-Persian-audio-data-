{
  "nbformat": 4,
  "nbformat_minor": 0,
  "metadata": {
    "colab": {
      "provenance": []
    },
    "kernelspec": {
      "name": "python3",
      "display_name": "Python 3"
    },
    "language_info": {
      "name": "python"
    }
  },
  "cells": [
    {
      "cell_type": "code",
      "source": [
        "import shutil\n",
        "import os\n",
        "\n",
        "# 📂 Original Mel-spectrogram folder\n",
        "original_melspec_folder = \"/content/drive/MyDrive/melspec_original\"\n",
        "\n",
        "# 📂 Target folders\n",
        "target_folders = [\n",
        "    \"/content/drive/MyDrive/melspec_noised\",\n",
        "    \"/content/drive/MyDrive/melspec_pitch\",\n",
        "    \"/content/drive/MyDrive/melspec_stretch\",\n",
        "    \"/content/drive/MyDrive/melspec_mixed\"\n",
        "]\n",
        "\n",
        "# 🚀 Copy all files\n",
        "for target in target_folders:\n",
        "    for file_name in os.listdir(original_melspec_folder):\n",
        "        src_path = os.path.join(original_melspec_folder, file_name)\n",
        "        dst_path = os.path.join(target, file_name)\n",
        "        shutil.copy(src_path, dst_path)\n",
        "\n",
        "print(\"✅ All original mel-spectrograms copied to all augmentation folders.\")\n",
        "\n"
      ],
      "metadata": {
        "id": "RawWkBRCgsdc"
      },
      "execution_count": null,
      "outputs": []
    }
  ]
}