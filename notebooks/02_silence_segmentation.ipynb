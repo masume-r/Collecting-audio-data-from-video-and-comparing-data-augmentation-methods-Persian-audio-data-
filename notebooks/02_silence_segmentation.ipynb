{
 "cells": [
  {
   "cell_type": "markdown",
   "id": "18cf94ad",
   "metadata": {},
   "source": [
    "# 🎤 Step 2: Segmenting Audio Using Silence Detection\n",
    "\n",
    "This notebook segments the extracted audio file into smaller dialogue units using silence detection\n",
    "with the help of the `pydub` library. These segments will be used for manual emotion labeling.\n",
    "\n",
    "✅ Good for conversational speech from Persian movies.\n"
   ]
  },
  {
   "cell_type": "code",
   "execution_count": null,
   "id": "57824d94",
   "metadata": {},
   "outputs": [],
   "source": [
    "# 🔧 Install required library\n",
    "!pip install pydub\n"
   ]
  },
  {
   "cell_type": "code",
   "execution_count": null,
   "id": "3bacc6a7",
   "metadata": {},
   "outputs": [],
   "source": [
    "# 📥 Import packages\n",
    "from pydub import AudioSegment\n",
    "from pydub.silence import split_on_silence\n",
    "import os\n"
   ]
  },
  {
   "cell_type": "code",
   "execution_count": null,
   "id": "5ae2b22d",
   "metadata": {},
   "outputs": [],
   "source": [
    "# 📂 Create folder to save segments\n",
    "os.makedirs(\"segments\", exist_ok=True)\n"
   ]
  },
  {
   "cell_type": "code",
   "execution_count": null,
   "id": "c8519ece",
   "metadata": {},
   "outputs": [],
   "source": [
    "# 🎧 Load the extracted audio\n",
    "sound = AudioSegment.from_wav(\"extracted_audio.wav\")\n"
   ]
  },
  {
   "cell_type": "code",
   "execution_count": null,
   "id": "2fe6fd75",
   "metadata": {},
   "outputs": [],
   "source": [
    "# ✂️ Split audio based on silence\n",
    "segments = split_on_silence(\n",
    "    sound,\n",
    "    min_silence_len=500,  # at least 0.5 seconds of silence\n",
    "    silence_thresh=sound.dBFS - 14,\n",
    "    keep_silence=250  # keep a bit of silence at edges\n",
    ")\n",
    "\n",
    "print(f\"📊 Number of segments found: {len(segments)}\")\n"
   ]
  },
  {
   "cell_type": "code",
   "execution_count": null,
   "id": "acb1fc85",
   "metadata": {},
   "outputs": [],
   "source": [
    "# 💾 Export each segment as a separate file\n",
    "for i, segment in enumerate(segments):\n",
    "    filename = f\"segments/segment_{i+1}.wav\"\n",
    "    segment.export(filename, format=\"wav\")\n",
    "\n",
    "print(\"✅ All segments saved to 'segments/' folder.\")\n"
   ]
  }
 ],
 "metadata": {},
 "nbformat": 4,
 "nbformat_minor": 5
}
