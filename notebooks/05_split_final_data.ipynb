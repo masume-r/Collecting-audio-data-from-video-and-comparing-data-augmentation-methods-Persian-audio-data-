{
 "cells": [
  {
   "cell_type": "markdown",
   "id": "0313e58c",
   "metadata": {},
   "source": [
    "# 📁 05_split_final_data.ipynb\n",
    "\n",
    "# 🎯 Step 5: Copy Final Audio Files and Split into Train/Test Sets\n",
    "\n",
    "\"\"\"\n",
    "This notebook:\n",
    "1. Selects audio files based on balanced_data.csv.\n",
    "2. Copies them into a new folder called 'audio_final'.\n",
    "3. Splits them into train and test sets.\n",
    "4. Creates separate CSV files for train and test.\n",
    "Test set size: ~40% of total samples.\n",
    "\"\"\""
   ]
  },
  {
   "cell_type": "code",
   "execution_count": null,
   "id": "ba269698",
   "metadata": {},
   "outputs": [],
   "source": [
    "# 📂 Mount Google Drive\n",
    "from google.colab import drive\n",
    "drive.mount('/content/drive')"
   ]
  },
  {
   "cell_type": "code",
   "execution_count": null,
   "id": "da553181",
   "metadata": {},
   "outputs": [],
   "source": [
    "# 📦 Libraries\n",
    "import os\n",
    "import shutil\n",
    "import pandas as pd\n",
    "from sklearn.model_selection import train_test_split"
   ]
  },
  {
   "cell_type": "code",
   "execution_count": null,
   "id": "c3113d83",
   "metadata": {},
   "outputs": [],
   "source": [
    "# 📂 Paths\n",
    "segments_folder = \"/content/drive/MyDrive/audio_segments\"\n",
    "output_final_folder = \"/content/drive/MyDrive/audio_final\"\n",
    "csv_path = \"/content/drive/MyDrive/balanced_data.csv\"\n",
    "\n",
    "# Create output folder if not exists\n",
    "os.makedirs(output_final_folder, exist_ok=True)"
   ]
  },
  {
   "cell_type": "code",
   "execution_count": null,
   "id": "b20504fa",
   "metadata": {},
   "outputs": [],
   "source": [
    "# 📖 Load balanced CSV\n",
    "df = pd.read_csv(csv_path)\n",
    "\n",
    "# 📋 Copy selected files\n",
    "for filename in df['filename']:\n",
    "    src = os.path.join(segments_folder, filename)\n",
    "    dst = os.path.join(output_final_folder, filename)\n",
    "    if os.path.exists(src):\n",
    "        shutil.copy(src, dst)\n",
    "    else:\n",
    "        print(f\"⚠️ File not found: {filename}\")\n",
    "\n",
    "print(f\"✅ All selected files copied to {output_final_folder}\")"
   ]
  },
  {
   "cell_type": "code",
   "execution_count": null,
   "id": "a7accbeb",
   "metadata": {},
   "outputs": [],
   "source": [
    "# ✂️ Split into train and test\n",
    "train_df, test_df = train_test_split(df, test_size=0.4, stratify=df['label'], random_state=42)\n",
    "\n",
    "print(f\"✅ Train samples: {len(train_df)}\")\n",
    "print(f\"✅ Test samples: {len(test_df)}\")"
   ]
  },
  {
   "cell_type": "code",
   "execution_count": null,
   "id": "c491322d",
   "metadata": {},
   "outputs": [],
   "source": [
    "# 📂 Create folders\n",
    "train_folder = \"/content/drive/MyDrive/audio_train\"\n",
    "test_folder = \"/content/drive/MyDrive/audio_test\"\n",
    "\n",
    "os.makedirs(train_folder, exist_ok=True)\n",
    "os.makedirs(test_folder, exist_ok=True)"
   ]
  },
  {
   "cell_type": "code",
   "execution_count": null,
   "id": "c2c77fb4",
   "metadata": {},
   "outputs": [],
   "source": [
    "# 📋 Copy files to train and test folders\n",
    "for filename in train_df['filename']:\n",
    "    src = os.path.join(output_final_folder, filename)\n",
    "    dst = os.path.join(train_folder, filename)\n",
    "    shutil.copy(src, dst)\n",
    "\n",
    "for filename in test_df['filename']:\n",
    "    src = os.path.join(output_final_folder, filename)\n",
    "    dst = os.path.join(test_folder, filename)\n",
    "    shutil.copy(src, dst)\n",
    "\n",
    "print(\"✅ Train and Test audio files copied.\")"
   ]
  },
  {
   "cell_type": "code",
   "execution_count": null,
   "id": "4b24d42b",
   "metadata": {},
   "outputs": [],
   "source": [
    "# 💾 Save CSVs\n",
    "train_df.to_csv(\"/content/drive/MyDrive/train.csv\", index=False)\n",
    "test_df.to_csv(\"/content/drive/MyDrive/test.csv\", index=False)\n",
    "\n",
    "print(\"✅ train.csv and test.csv created.\")"
   ]
  }
 ],
 "metadata": {},
 "nbformat": 4,
 "nbformat_minor": 5
}
