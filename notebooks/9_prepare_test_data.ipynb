{
  "cells": [
    {
      "cell_type": "markdown",
      "id": "205d9764",
      "metadata": {
        "id": "205d9764"
      },
      "source": [
        "#📁 9_prepare_test_data.ipynb\n",
        "\n",
        "# 🎟️ Step 9: Prepare Mel Spectrograms and CSV for Test Data\n",
        "\n",
        "\"\"\"\n",
        "This notebook generates Mel Spectrograms for the final test audio files\n",
        "and prepares a matching CSV file (filename and label).\n",
        "\"\"\"\n"
      ]
    },
    {
      "cell_type": "code",
      "execution_count": 5,
      "metadata": {
        "colab": {
          "base_uri": "https://localhost:8080/"
        },
        "id": "fc532aeb",
        "outputId": "5697c05e-b3b3-47ec-9031-909cdf6de3ba"
      },
      "outputs": [
        {
          "output_type": "stream",
          "name": "stdout",
          "text": [
            "Mounted at /content/drive\n"
          ]
        }
      ],
      "source": [
        "# 📂 Mount Google Drive\n",
        "from google.colab import drive\n",
        "drive.mount('/content/drive')"
      ],
      "id": "fc532aeb"
    },
    {
      "cell_type": "code",
      "source": [
        "# 📦 Libraries\n",
        "import os\n",
        "import pandas as pd\n",
        "import librosa\n",
        "import librosa.display\n",
        "import matplotlib.pyplot as plt\n",
        "import numpy as np\n",
        "\n",
        "# 🔍 Load original labels\n",
        "original_csv = \"/content/drive/MyDrive/balanced_data.csv\"\n",
        "label_df = pd.read_csv(original_csv)\n",
        "label_map = dict(zip(label_df['filename'], label_df['label']))\n",
        "\n",
        "# 📂 Paths\n",
        "input_folder = \"/content/drive/MyDrive/final_test_data\"  # folder containing original test .wav files\n",
        "output_folder = \"/content/drive/MyDrive/melspec_test\"  # where .png spectrograms will be saved\n",
        "os.makedirs(output_folder, exist_ok=True)\n",
        "\n",
        "# 🔄 Generate Mel Spectrograms and collect filenames and labels\n",
        "test_records = []\n",
        "\n",
        "for filename in os.listdir(input_folder):\n",
        "    if filename.endswith(\".wav\"):\n",
        "        filepath = os.path.join(input_folder, filename)\n",
        "        try:\n",
        "            # Load and process audio\n",
        "            y, sr = librosa.load(filepath, sr=16000)\n",
        "            mel_spec = librosa.feature.melspectrogram(y=y, sr=sr, n_mels=128)\n",
        "            mel_db = librosa.power_to_db(mel_spec, ref=np.max)\n",
        "\n",
        "            # Save Mel Spectrogram\n",
        "            plt.figure(figsize=(3, 3))\n",
        "            librosa.display.specshow(mel_db, sr=sr, x_axis='time', y_axis='mel')\n",
        "            plt.axis('off')\n",
        "            save_path = os.path.join(output_folder, filename.replace('.wav', '.png'))\n",
        "            plt.savefig(save_path, bbox_inches='tight', pad_inches=0)\n",
        "            plt.close()\n",
        "\n",
        "            # Match label\n",
        "            base_filename = filename\n",
        "            if base_filename in label_map:\n",
        "                label = label_map[base_filename]\n",
        "                test_records.append({\"filename\": base_filename, \"label\": label})\n",
        "            else:\n",
        "                print(f\"⚠️ No label found for {filename}\")\n",
        "\n",
        "        except Exception as e:\n",
        "            print(f\"⚠️ Error processing {filename}: {e}\")\n",
        "\n",
        "# 📅 Save CSV\n",
        "test_df = pd.DataFrame(test_records)\n",
        "test_df.to_csv(\"/content/drive/MyDrive/test_final.csv\", index=False)\n",
        "print(f\"✅ Test dataset prepared. Total files: {len(test_df)}\")\n"
      ],
      "metadata": {
        "id": "qGT-p9V_x_VY"
      },
      "id": "qGT-p9V_x_VY",
      "execution_count": null,
      "outputs": []
    }
  ],
  "metadata": {
    "colab": {
      "provenance": []
    },
    "language_info": {
      "name": "python"
    },
    "kernelspec": {
      "name": "python3",
      "display_name": "Python 3"
    }
  },
  "nbformat": 4,
  "nbformat_minor": 5
}