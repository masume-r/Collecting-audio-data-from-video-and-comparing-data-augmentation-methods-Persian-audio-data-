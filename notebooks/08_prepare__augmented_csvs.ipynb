{
  "cells": [
    {
      "cell_type": "markdown",
      "id": "205d9764",
      "metadata": {
        "id": "205d9764"
      },
      "source": [
        "# 📁 08_prepare_augmented_csvs.ipynb\n",
        "\n",
        "# 🎯 Step 8: Create Separate CSVs for Augmented Data\n",
        "\n",
        "\"\"\"\n",
        "This notebook creates separate CSV files for each augmentation type\n",
        "(noised, pitch-shifted, stretched, mixed) based on the filenames.\n",
        "\"\"\"\n"
      ]
    },
    {
      "cell_type": "code",
      "execution_count": 1,
      "metadata": {
        "colab": {
          "base_uri": "https://localhost:8080/"
        },
        "id": "fc532aeb",
        "outputId": "2fe4bb04-4b7a-408a-c742-a58733af25eb"
      },
      "outputs": [
        {
          "output_type": "stream",
          "name": "stdout",
          "text": [
            "Mounted at /content/drive\n"
          ]
        }
      ],
      "source": [
        "# 📂 Mount Google Drive\n",
        "from google.colab import drive\n",
        "drive.mount('/content/drive')"
      ],
      "id": "fc532aeb"
    },
    {
      "cell_type": "code",
      "source": [
        "# 📚 Libraries\n",
        "import pandas as pd\n",
        "import os\n",
        "\n",
        "# 📂 Load the original CSV (manually labeled + balanced)\n",
        "original_csv = \"/content/drive/MyDrive/final_csv/train_final.csv\"\n",
        "df = pd.read_csv(original_csv)\n",
        "\n",
        "# 📂 Output folder\n",
        "output_dir = \"/content/drive/MyDrive/final_csv\"\n",
        "os.makedirs(output_dir, exist_ok=True)\n",
        "\n",
        "# 🔖 Define suffixes and corresponding output filenames\n",
        "versions = {\n",
        "    \"\": \"train_final_original.csv\",\n",
        "    \"_noised\": \"train_final_noised.csv\",\n",
        "    \"_stretched\": \"train_final_stretched.csv\",\n",
        "    \"_pitch\": \"train_final_pitched.csv\",\n",
        "    \"_mixed\": \"train_final_mixed.csv\"\n",
        "}\n",
        "\n",
        "# 🔄 Create CSV for each augmentation\n",
        "for suffix, output_filename in versions.items():\n",
        "    all_rows = []\n",
        "\n",
        "    for idx, row in df.iterrows():\n",
        "        base_name = row['filename'].replace('.wav', '')  # Remove .wav\n",
        "        label = row['label']\n",
        "\n",
        "        # Add original file\n",
        "        all_rows.append({\n",
        "            'filename': f\"{base_name}.png\",\n",
        "            'label': label\n",
        "        })\n",
        "\n",
        "        # Add augmented file (only for augmented versions)\n",
        "        if suffix != \"\":\n",
        "            all_rows.append({\n",
        "                'filename': f\"{base_name}{suffix}.png\",\n",
        "                'label': label\n",
        "            })\n",
        "\n",
        "    # Save the new CSV\n",
        "    df_combined = pd.DataFrame(all_rows)\n",
        "    save_path = os.path.join(output_dir, output_filename)\n",
        "    df_combined.to_csv(save_path, index=False)\n",
        "\n",
        "    print(f\"✅ CSV created: {save_path}\")\n",
        "\n",
        "print(\"\\n🎯 All CSV files generated successfully!\")\n"
      ],
      "metadata": {
        "id": "34OT7Z949xUT"
      },
      "id": "34OT7Z949xUT",
      "execution_count": null,
      "outputs": []
    }
  ],
  "metadata": {
    "colab": {
      "provenance": []
    },
    "language_info": {
      "name": "python"
    },
    "kernelspec": {
      "name": "python3",
      "display_name": "Python 3"
    }
  },
  "nbformat": 4,
  "nbformat_minor": 5
}