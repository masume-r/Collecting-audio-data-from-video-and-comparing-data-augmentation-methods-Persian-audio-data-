{
 "cells": [
  {
   "cell_type": "markdown",
   "id": "9234cdab",
   "metadata": {},
   "source": [
    "# 📁 03_create_csv_from_segments.ipynb\n",
    "\n",
    "# 🎯 Step 3: Create Initial CSV File for Manual Labeling\n",
    "\n",
    "\"\"\"\n",
    "This notebook creates a CSV file listing all filtered audio segments,\n",
    "preparing them for manual labeling.\n",
    "Labels are left empty for the user to fill manually.\n",
    "\"\"\""
   ]
  },
  {
   "cell_type": "code",
   "execution_count": null,
   "id": "70c4e218",
   "metadata": {},
   "outputs": [],
   "source": [
    "# 📂 Mount Google Drive\n",
    "from google.colab import drive\n",
    "drive.mount('/content/drive')"
   ]
  },
  {
   "cell_type": "code",
   "execution_count": null,
   "id": "3667da6e",
   "metadata": {},
   "outputs": [],
   "source": [
    "# 📦 Libraries\n",
    "import os\n",
    "import pandas as pd"
   ]
  },
  {
   "cell_type": "code",
   "execution_count": null,
   "id": "5dd59d41",
   "metadata": {},
   "outputs": [],
   "source": [
    "# 📂 Path to cleaned segments\n",
    "segments_folder = \"/content/drive/MyDrive/audio_segments\" "
   ]
  },
  {
   "cell_type": "code",
   "execution_count": null,
   "id": "41abe9c9",
   "metadata": {},
   "outputs": [],
   "source": [
    "# 📝 Create CSV with filenames (label column left empty)\n",
    "filtered_files = []\n",
    "\n",
    "for filename in os.listdir(segments_folder):\n",
    "    if filename.endswith(\".wav\"):\n",
    "        filtered_files.append(filename)\n",
    "\n",
    "initial_df = pd.DataFrame({\n",
    "    \"filename\": filtered_files,\n",
    "    \"label\": [\"\"] * len(filtered_files)  # ⚡ Leave labels empty for manual labeling\n",
    "})\n",
    "\n",
    "# 💬 Important: After generating this CSV, manually listen to each file and fill in the correct label.\n",
    "# Example: 0 for Neutral, 1 for Happy, 2 for Sad, 3 for Angry\n",
    "\n",
    "# 💾 Save CSV\n",
    "initial_df.to_csv(\"/content/drive/MyDrive/initial_labels.csv\", index=False)\n",
    "\n",
    "print(f\"✅ initial_labels.csv created with {len(initial_df)} files. Ready for manual labeling!\")"
   ]
  }
 ],
 "metadata": {},
 "nbformat": 4,
 "nbformat_minor": 5
}
