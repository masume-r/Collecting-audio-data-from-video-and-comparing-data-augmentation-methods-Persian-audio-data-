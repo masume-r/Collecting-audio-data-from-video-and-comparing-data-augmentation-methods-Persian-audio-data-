{
 "cells": [
  {
   "cell_type": "markdown",
   "id": "99ed1ccd",
   "metadata": {},
   "source": [
    "# 📁 02_clean_audio_segments.ipynb\n",
    "\n",
    "# 🎯 Step 2: Clean Uploaded Audio Segments (Filter by Duration)\n",
    "\n",
    "\"\"\"\n",
    "This notebook filters the uploaded audio segments,\n",
    "keeping only the ones with duration between 1 and 5 seconds.\n",
    "Unsuitable files are automatically deleted.\n",
    "\"\"\""
   ]
  },
  {
   "cell_type": "code",
   "execution_count": null,
   "id": "1128ab87",
   "metadata": {},
   "outputs": [],
   "source": [
    "# 📂 Mount Google Drive\n",
    "from google.colab import drive\n",
    "drive.mount('/content/drive')"
   ]
  },
  {
   "cell_type": "code",
   "execution_count": null,
   "id": "3f5c7f28",
   "metadata": {},
   "outputs": [],
   "source": [
    "# 📦 Libraries\n",
    "import os\n",
    "import librosa"
   ]
  },
  {
   "cell_type": "code",
   "execution_count": null,
   "id": "758b3f1b",
   "metadata": {},
   "outputs": [],
   "source": [
    "# 📂 Path to uploaded segments\n",
    "segments_folder = \"/content/drive/MyDrive/audio_segments\" "
   ]
  },
  {
   "cell_type": "code",
   "execution_count": null,
   "id": "955fc1d3",
   "metadata": {},
   "outputs": [],
   "source": [
    "# 🧹 Filter files based on duration (1-5 seconds)\n",
    "filtered_files = []\n",
    "\n",
    "for filename in os.listdir(segments_folder):\n",
    "    if filename.endswith(\".wav\"):\n",
    "        filepath = os.path.join(segments_folder, filename)\n",
    "        try:\n",
    "            y, sr = librosa.load(filepath, sr=16000)\n",
    "            duration = librosa.get_duration(y=y, sr=sr)\n",
    "\n",
    "            if 1 <= duration <= 5:\n",
    "                filtered_files.append(filename)\n",
    "            else:\n",
    "                os.remove(filepath)  # ❌ Delete unsuitable files\n",
    "\n",
    "        except Exception as e:\n",
    "            print(f\"⚠️ Error processing {filename}: {e}\")\n",
    "\n",
    "print(f\"✅ Total kept files (1-5 sec): {len(filtered_files)}\")"
   ]
  }
 ],
 "metadata": {},
 "nbformat": 4,
 "nbformat_minor": 5
}
