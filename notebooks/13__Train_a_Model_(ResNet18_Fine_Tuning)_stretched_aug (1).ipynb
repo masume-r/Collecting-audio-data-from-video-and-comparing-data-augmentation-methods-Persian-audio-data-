{
  "nbformat": 4,
  "nbformat_minor": 0,
  "metadata": {
    "colab": {
      "provenance": []
    },
    "kernelspec": {
      "name": "python3",
      "display_name": "Python 3"
    },
    "language_info": {
      "name": "python"
    }
  },
  "cells": [
    {
      "cell_type": "markdown",
      "source": [
        "# 📁 13_train_model_with_confusion_matrix(_stretched).ipynb\n",
        "\n",
        "\"\"\"\n",
        "Train the CNN model on the training data augmented with time-stretched audio,\n",
        "then evaluate on test data with:\n",
        "- Confusion Matrix\n",
        "- Seaborn Heatmap\n",
        "\"\"\""
      ],
      "metadata": {
        "id": "PSzFgzevWc12"
      }
    },
    {
      "cell_type": "code",
      "execution_count": 1,
      "metadata": {
        "id": "1W13Lp1Q0dHv"
      },
      "outputs": [],
      "source": [
        "# 📦 Import Libraries\n",
        "import torch\n",
        "import torch.nn as nn\n",
        "import torch.optim as optim\n",
        "from torchvision import models\n",
        "from torchvision.models import mobilenet_v2\n",
        "from torch.utils.data import DataLoader\n",
        "from torchvision import transforms\n",
        "from PIL import Image\n",
        "import pandas as pd\n",
        "import os\n",
        "import matplotlib.pyplot as plt\n",
        "import seaborn as sns\n",
        "from sklearn.metrics import confusion_matrix"
      ]
    },
    {
      "cell_type": "code",
      "source": [
        "# 📂 Mount Drive\n",
        "from google.colab import drive\n",
        "drive.mount('/content/drive')"
      ],
      "metadata": {
        "colab": {
          "base_uri": "https://localhost:8080/"
        },
        "id": "A6nJX89BdFBT",
        "outputId": "c1b6a65c-25c8-4daa-fe9b-9c26143247ae"
      },
      "execution_count": 2,
      "outputs": [
        {
          "output_type": "stream",
          "name": "stdout",
          "text": [
            "Mounted at /content/drive\n"
          ]
        }
      ]
    },
    {
      "cell_type": "code",
      "source": [
        "import torch\n",
        "import random\n",
        "import numpy as np\n",
        "import os\n",
        "\n",
        "def set_seed(seed=42):\n",
        "    print(f\"📌 Setting seed: {seed}\")\n",
        "\n",
        "    random.seed(seed)\n",
        "    np.random.seed(seed)\n",
        "    torch.manual_seed(seed)\n",
        "    torch.cuda.manual_seed(seed)\n",
        "\n",
        "    torch.backends.cudnn.deterministic = True\n",
        "    torch.backends.cudnn.benchmark = False\n",
        "\n",
        "set_seed(42)\n"
      ],
      "metadata": {
        "colab": {
          "base_uri": "https://localhost:8080/"
        },
        "id": "hrtDKFgdGS63",
        "outputId": "0ecfe495-8f87-4337-fa04-dd38103c1a93"
      },
      "execution_count": 3,
      "outputs": [
        {
          "output_type": "stream",
          "name": "stdout",
          "text": [
            "📌 Setting seed: 42\n"
          ]
        }
      ]
    },
    {
      "cell_type": "code",
      "source": [
        "class MelSpectrogramDataset(torch.utils.data.Dataset):\n",
        "    def __init__(self, csv_file, image_dir, transform=None):\n",
        "        self.df = pd.read_csv(csv_file)\n",
        "        self.image_dir = image_dir\n",
        "        self.transform = transform if transform else transforms.ToTensor()\n",
        "\n",
        "    def __len__(self):\n",
        "        return len(self.df)\n",
        "\n",
        "    def __getitem__(self, idx):\n",
        "        row = self.df.iloc[idx]\n",
        "        base_name = os.path.splitext(row[\"filename\"])[0]\n",
        "        image_path = os.path.join(self.image_dir, base_name + \".png\")\n",
        "        image = Image.open(image_path).convert(\"RGB\")\n",
        "        label = int(row[\"label\"])\n",
        "\n",
        "        if self.transform:\n",
        "            image = self.transform(image)\n",
        "\n",
        "        return image, label\n"
      ],
      "metadata": {
        "id": "vEHvMtjIGAGl"
      },
      "execution_count": 4,
      "outputs": []
    },
    {
      "cell_type": "code",
      "source": [
        "transform = transforms.Compose([\n",
        "    transforms.Resize((224, 224)),\n",
        "    transforms.ToTensor(),\n",
        "    transforms.Normalize([0.485, 0.456, 0.406],   # mean\n",
        "                         [0.229, 0.224, 0.225])   # std\n",
        "])\n",
        "\n",
        "train_csv = \"/content/drive/MyDrive/final_csv/train_final_stretched.csv\"\n",
        "train_dir = \"/content/drive/MyDrive/melspec_stretch\"\n",
        "\n",
        "test_csv = \"/content/drive/MyDrive/final_csv/test_final.csv\"\n",
        "test_dir = \"/content/drive/MyDrive/final_melspec_test\"\n",
        "\n",
        "train_dataset = MelSpectrogramDataset(train_csv, train_dir, transform=transform)\n",
        "test_dataset  = MelSpectrogramDataset(test_csv, test_dir, transform=transform)\n",
        "\n",
        "train_loader = DataLoader(train_dataset, batch_size=32, shuffle=True)\n",
        "test_loader  = DataLoader(test_dataset, batch_size=32, shuffle=False)\n"
      ],
      "metadata": {
        "id": "o7v3p8IAGBtf"
      },
      "execution_count": 9,
      "outputs": []
    },
    {
      "cell_type": "code",
      "source": [
        "device = torch.device(\"cuda\" if torch.cuda.is_available() else \"cpu\")\n",
        "model_type = \"resnet\"  # یا \"mobilenet\" resnet\n",
        "\n",
        "if model_type == \"resnet\":\n",
        "    model = models.resnet18(pretrained=True)\n",
        "    for param in model.parameters():\n",
        "        param.requires_grad = False\n",
        "    num_ftrs = model.fc.in_features\n",
        "    model.fc = nn.Linear(num_ftrs, 4)\n",
        "    for param in model.fc.parameters():\n",
        "        param.requires_grad = True\n",
        "\n",
        "elif model_type == \"mobilenet\":\n",
        "    model = mobilenet_v2(pretrained=True)\n",
        "    for param in model.parameters():\n",
        "        param.requires_grad = False\n",
        "    num_ftrs = model.classifier[1].in_features\n",
        "    model.classifier[1] = nn.Linear(num_ftrs, 4)\n",
        "    for param in model.classifier[1].parameters():\n",
        "        param.requires_grad = True\n",
        "\n",
        "model = model.to(device)\n"
      ],
      "metadata": {
        "colab": {
          "base_uri": "https://localhost:8080/"
        },
        "id": "mnxXMeBqGHFV",
        "outputId": "432c5967-0bc8-4bcf-da74-8fc71d564ed7"
      },
      "execution_count": 10,
      "outputs": [
        {
          "output_type": "stream",
          "name": "stderr",
          "text": [
            "/usr/local/lib/python3.11/dist-packages/torchvision/models/_utils.py:208: UserWarning: The parameter 'pretrained' is deprecated since 0.13 and may be removed in the future, please use 'weights' instead.\n",
            "  warnings.warn(\n",
            "/usr/local/lib/python3.11/dist-packages/torchvision/models/_utils.py:223: UserWarning: Arguments other than a weight enum or `None` for 'weights' are deprecated since 0.13 and may be removed in the future. The current behavior is equivalent to passing `weights=ResNet18_Weights.IMAGENET1K_V1`. You can also use `weights=ResNet18_Weights.DEFAULT` to get the most up-to-date weights.\n",
            "  warnings.warn(msg)\n"
          ]
        }
      ]
    },
    {
      "cell_type": "code",
      "source": [
        "criterion = nn.CrossEntropyLoss()\n",
        "optimizer = optim.Adam(filter(lambda p: p.requires_grad, model.parameters()), lr=0.001, weight_decay=1e-4)\n",
        "\n",
        "num_epochs = 30\n",
        "best_acc = 0\n",
        "patience = 4\n",
        "counter = 0\n"
      ],
      "metadata": {
        "id": "CHLhnF4EGI6H"
      },
      "execution_count": 11,
      "outputs": []
    },
    {
      "cell_type": "code",
      "source": [
        "for epoch in range(num_epochs):\n",
        "    model.train()\n",
        "    running_loss = 0.0\n",
        "    correct = 0\n",
        "    total = 0\n",
        "\n",
        "    for images, labels in train_loader:\n",
        "        images, labels = images.to(device), labels.to(device)\n",
        "\n",
        "        optimizer.zero_grad()\n",
        "        outputs = model(images)\n",
        "        loss = criterion(outputs, labels)\n",
        "        loss.backward()\n",
        "        optimizer.step()\n",
        "\n",
        "        running_loss += loss.item()\n",
        "        _, predicted = torch.max(outputs, 1)\n",
        "        total += labels.size(0)\n",
        "        correct += (predicted == labels).sum().item()\n",
        "\n",
        "    train_acc = correct / total\n",
        "    print(f\"📘 Epoch {epoch+1} | Loss: {running_loss:.4f} | Train Acc: {train_acc:.4f}\")\n",
        "\n",
        "    # 🔎 Evaluation\n",
        "    model.eval()\n",
        "    correct_test = 0\n",
        "    total_test = 0\n",
        "    all_preds = []\n",
        "    all_labels = []\n",
        "\n",
        "    with torch.no_grad():\n",
        "        for images, labels in test_loader:\n",
        "            images, labels = images.to(device), labels.to(device)\n",
        "            outputs = model(images)\n",
        "            _, predicted = torch.max(outputs, 1)\n",
        "            total_test += labels.size(0)\n",
        "            correct_test += (predicted == labels).sum().item()\n",
        "\n",
        "            all_preds.extend(predicted.cpu().numpy())\n",
        "            all_labels.extend(labels.cpu().numpy())\n",
        "\n",
        "    test_acc = correct_test / total_test\n",
        "    print(f\"🧪 Test Acc: {test_acc:.4f}\")\n",
        "\n",
        "    # ⛔ Early Stopping\n",
        "    if test_acc > best_acc:\n",
        "        best_acc = test_acc\n",
        "        counter = 0\n",
        "        torch.save(model.state_dict(), f\"best_model_{model_type}.pth\")\n",
        "        # Save best preds and labels\n",
        "        best_preds = all_preds\n",
        "        best_labels = all_labels\n",
        "    else:\n",
        "        counter += 1\n",
        "        if counter >= patience:\n",
        "            print(\"🛑 Early stopping triggered.\")\n",
        "            break\n",
        "\n",
        "# 📊 Confusion Matrix and Heatmap after training\n",
        "from sklearn.metrics import confusion_matrix\n",
        "import seaborn as sns\n",
        "import matplotlib.pyplot as plt\n",
        "\n",
        "cm = confusion_matrix(best_labels, best_preds)\n",
        "plt.figure(figsize=(6,6))\n",
        "sns.heatmap(cm, annot=True, fmt='d', cmap='Blues',\n",
        "            xticklabels=['Neutral', 'Happy', 'Sad', 'Angry'],\n",
        "            yticklabels=['Neutral', 'Happy', 'Sad', 'Angry'])\n",
        "plt.xlabel('Predicted Labels')\n",
        "plt.ylabel('True Labels')\n",
        "plt.title('Confusion Matrix - Best Model')\n",
        "plt.show()\n",
        "\n"
      ],
      "metadata": {
        "colab": {
          "base_uri": "https://localhost:8080/",
          "height": 790
        },
        "id": "dsnz2T6UGKQN",
        "outputId": "414e488d-4f30-4b68-f0e5-c22a01f08099"
      },
      "execution_count": 12,
      "outputs": [
        {
          "output_type": "stream",
          "name": "stdout",
          "text": [
            "📘 Epoch 1 | Loss: 6.0348 | Train Acc: 0.2212\n",
            "🧪 Test Acc: 0.2500\n",
            "📘 Epoch 2 | Loss: 5.5509 | Train Acc: 0.3365\n",
            "🧪 Test Acc: 0.3056\n",
            "📘 Epoch 3 | Loss: 5.1724 | Train Acc: 0.4327\n",
            "🧪 Test Acc: 0.2222\n",
            "📘 Epoch 4 | Loss: 4.8655 | Train Acc: 0.4904\n",
            "🧪 Test Acc: 0.2778\n",
            "📘 Epoch 5 | Loss: 4.5140 | Train Acc: 0.6250\n",
            "🧪 Test Acc: 0.2778\n",
            "📘 Epoch 6 | Loss: 4.3623 | Train Acc: 0.6442\n",
            "🧪 Test Acc: 0.1667\n",
            "🛑 Early stopping triggered.\n"
          ]
        },
        {
          "output_type": "display_data",
          "data": {
            "text/plain": [
              "<Figure size 600x600 with 2 Axes>"
            ],
            "image/png": "[encoded data removed]"
          },
          "metadata": {}
        }
      ]
    },
    {
      "cell_type": "code",
      "source": [],
      "metadata": {
        "id": "Pxs25IEvZE3n"
      },
      "execution_count": null,
      "outputs": []
    }
  ]
}